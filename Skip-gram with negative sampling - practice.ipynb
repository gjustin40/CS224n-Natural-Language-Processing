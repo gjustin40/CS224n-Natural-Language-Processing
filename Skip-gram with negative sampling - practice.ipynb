{
 "cells": [
  {
   "cell_type": "code",
   "execution_count": null,
   "metadata": {},
   "outputs": [],
   "source": [
    "USE_CUDA = torch.cuda.is_available()\n",
    "if USE_CUDA:\n",
    "    torch.cuda.set_device(0)\n",
    "    FloatTensor = torch.cuda.FloatTensor\n",
    "    LongTensor = torch.cuda.LongTensor\n",
    "    ByteTensor = torch.cuda.ByteTensor\n",
    "else:\n",
    "    FloatTensor = torch.FloatTensor\n",
    "    LongTensor = torch.cuda.LongTensor\n",
    "    ByteTensor = torch.cuda.ByteTensor"
   ]
  },
  {
   "cell_type": "code",
   "execution_count": null,
   "metadata": {},
   "outputs": [],
   "source": [
    "def prepare_sequence(seq, word):\n",
    "    idxs = []\n",
    "    for w in seq:\n",
    "        if word2index.get(w) != None:\n",
    "            idxs.append(word2index[w])\n",
    "        else:\n",
    "            idxs.append(word2index[\"<UNK>\"])\n",
    "    return Varable(LongTensor(idxs))\n",
    "\n",
    "def prepare_word(word, word2index):\n",
    "    if word2index.get(wird) != None:\n",
    "        return Variable(LongTensor(word2index[word]))\n",
    "    else:\n",
    "        return Variable(LongTensor([word2index['<UNK>']]))"
   ]
  },
  {
   "cell_type": "code",
   "execution_count": null,
   "metadata": {},
   "outputs": [],
   "source": [
    "%%time\n",
    "# 코드 재구성\n",
    "corpus = nltk.corpus.gutenberg.sents('melville-moby_dick.txt')[:500]\n",
    "words = []\n",
    "for sent in corpus:\n",
    "    for word in sent:\n",
    "        words.append(word.lower())\n",
    "corpus = words\n",
    "word_count = Counter(corpus)"
   ]
  }
 ],
 "metadata": {
  "kernelspec": {
   "display_name": "Python 3",
   "language": "python",
   "name": "python3"
  },
  "language_info": {
   "codemirror_mode": {
    "name": "ipython",
    "version": 3
   },
   "file_extension": ".py",
   "mimetype": "text/x-python",
   "name": "python",
   "nbconvert_exporter": "python",
   "pygments_lexer": "ipython3",
   "version": "3.6.2"
  },
  "varInspector": {
   "cols": {
    "lenName": 16,
    "lenType": 16,
    "lenVar": 40
   },
   "kernels_config": {
    "python": {
     "delete_cmd_postfix": "",
     "delete_cmd_prefix": "del ",
     "library": "var_list.py",
     "varRefreshCmd": "print(var_dic_list())"
    },
    "r": {
     "delete_cmd_postfix": ") ",
     "delete_cmd_prefix": "rm(",
     "library": "var_list.r",
     "varRefreshCmd": "cat(var_dic_list()) "
    }
   },
   "types_to_exclude": [
    "module",
    "function",
    "builtin_function_or_method",
    "instance",
    "_Feature"
   ],
   "window_display": false
  }
 },
 "nbformat": 4,
 "nbformat_minor": 2
}
